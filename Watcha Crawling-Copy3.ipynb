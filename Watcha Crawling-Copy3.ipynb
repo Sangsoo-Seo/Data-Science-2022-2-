{
 "cells": [
  {
   "cell_type": "code",
   "execution_count": 1,
   "metadata": {
    "colab": {
     "base_uri": "https://localhost:8080/",
     "height": 400
    },
    "executionInfo": {
     "elapsed": 7,
     "status": "error",
     "timestamp": 1669274278693,
     "user": {
      "displayName": "김예진",
      "userId": "09141909830187410712"
     },
     "user_tz": -540
    },
    "id": "lbjiC9vdMXLd",
    "outputId": "e703f914-0b4d-4b28-fc60-f92a6574c848"
   },
   "outputs": [
    {
     "name": "stderr",
     "output_type": "stream",
     "text": [
      "/Users/constant/opt/anaconda3/lib/python3.7/site-packages/requests/__init__.py:91: RequestsDependencyWarning: urllib3 (1.26.13) or chardet (3.0.4) doesn't match a supported version!\n",
      "  RequestsDependencyWarning)\n"
     ]
    }
   ],
   "source": [
    "import requests as req\n",
    "from bs4 import BeautifulSoup as bs\n",
    "import pandas as pd\n",
    "import numpy as np\n",
    "\n",
    "from selenium.webdriver.common.keys import Keys\n",
    "from selenium import webdriver as wd\n",
    "from selenium.webdriver.chrome.options import Options\n",
    "import time"
   ]
  },
  {
   "cell_type": "code",
   "execution_count": 18,
   "metadata": {
    "id": "fuZv0iOhMXLg"
   },
   "outputs": [
    {
     "name": "stderr",
     "output_type": "stream",
     "text": [
      "/Users/constant/opt/anaconda3/lib/python3.7/site-packages/ipykernel_launcher.py:3: DeprecationWarning: executable_path has been deprecated, please pass in a Service object\n",
      "  This is separate from the ipykernel package so we can avoid doing imports until\n"
     ]
    }
   ],
   "source": [
    "path = 'constant/Documents/Lecture/Data Science/Jupyter/chromedriver'\n",
    "#driver = wd.Chrome(path, options=options)\n",
    "driver = wd.Chrome(path)"
   ]
  },
  {
   "cell_type": "code",
   "execution_count": null,
   "metadata": {
    "id": "uW0aMos1MXLh"
   },
   "outputs": [],
   "source": [
    "# driver.get('https://www.imdb.com/feature/genre/?ref_=nv_ch_gr')"
   ]
  },
  {
   "cell_type": "code",
   "execution_count": null,
   "metadata": {
    "id": "7zOKfkBAMXLh"
   },
   "outputs": [],
   "source": [
    "#main > div > div.lister.list.detail.sub-list > div > div:nth-child(1) > div.lister-item-content > h3"
   ]
  },
  {
   "cell_type": "code",
   "execution_count": null,
   "metadata": {
    "id": "bcJgXnGjMXLh"
   },
   "outputs": [],
   "source": [
    "#main > div > div.lister.list.detail.sub-list > div > div:nth-child(2) > div.lister-item-content > h3"
   ]
  },
  {
   "cell_type": "code",
   "execution_count": null,
   "metadata": {
    "id": "7_ZkUAjuMXLi"
   },
   "outputs": [],
   "source": [
    "# elem = driver.find_element_by_css_selector('#main > div > div.lister.list.detail.sub-list > div > div:nth-child(1) > div.lister-item-image.float-left > a > img')\n",
    "# elem.click()\n",
    "# time.sleep(0.4)"
   ]
  },
  {
   "cell_type": "code",
   "execution_count": null,
   "metadata": {
    "id": "AVZfjaE5MXLi"
   },
   "outputs": [],
   "source": [
    "#main > div > div.lister.list.detail.sub-list > div > div:nth-child(1) > div.lister-item-image.float-left > a > img"
   ]
  },
  {
   "cell_type": "code",
   "execution_count": null,
   "metadata": {
    "id": "nXQM-NWVMXLi"
   },
   "outputs": [],
   "source": []
  },
  {
   "cell_type": "code",
   "execution_count": 19,
   "metadata": {
    "id": "7Nd6En9eMXLj"
   },
   "outputs": [],
   "source": [
    "driver.get('https://pedia.watcha.com/ko-KR/contents/m5XMozW/comments')"
   ]
  },
  {
   "cell_type": "code",
   "execution_count": 49,
   "metadata": {
    "id": "RXUgQZKlMXLk"
   },
   "outputs": [
    {
     "name": "stdout",
     "output_type": "stream",
     "text": [
      "스크롤 완료\n"
     ]
    }
   ],
   "source": [
    "interval = 0.7\n",
    "driver.execute_script('window.scrollTo(0,document.body.scrollHeight)')\n",
    "prev_height = driver.execute_script('return document.body.scrollHeight') \n",
    "while True:\n",
    "    #스크롤을 가장 아래로 내림\n",
    "    driver.execute_script('window.scrollTo(0,document.body.scrollHeight)')\n",
    "    #페이지 로딩 대기\n",
    "    time.sleep(interval)\n",
    "    #현재 문서 높이를 가져와서 저장\n",
    "    #driver.implicitly_wait(10)\n",
    "    curr_height = driver.execute_script('return document.body.scrollHeight') \n",
    "    if curr_height == prev_height:\n",
    "        break\n",
    "    prev_height = curr_height\n",
    "print(\"스크롤 완료\")"
   ]
  },
  {
   "cell_type": "code",
   "execution_count": 50,
   "metadata": {
    "id": "pSDRsfdJMXLl"
   },
   "outputs": [],
   "source": [
    "soup = bs(driver.page_source, 'lxml')\n",
    "reviews = soup.find_all('div', attrs={'class':'css-bawlbm'})"
   ]
  },
  {
   "cell_type": "code",
   "execution_count": 51,
   "metadata": {
    "id": "pPKvPUehMXLl"
   },
   "outputs": [],
   "source": [
    "user_id = []\n",
    "text = []\n",
    "rating = []\n",
    "like = []\n",
    "num_comments = []\n",
    "\n",
    "for review in reviews:\n",
    "    \n",
    "    user_id_temp = review.find('div', attrs={'class':'css-1agoci2'})\n",
    "    if user_id_temp != None:\n",
    "        user_id.append(user_id_temp.get_text())\n",
    "    else:\n",
    "        user_id.append(None)\n",
    "    \n",
    "    rating_temp = review.find('div', attrs={'class':'css-yqs4xl'})\n",
    "    if rating_temp != None:\n",
    "        rating.append(rating_temp.get_text())\n",
    "    else:\n",
    "        rating.append(None)\n",
    "    \n",
    "    text_temp = review.find('div', attrs={'class':'css-1g78l7j'})\n",
    "    if text_temp != None:\n",
    "        text.append(text_temp.get_text())\n",
    "    else:\n",
    "        text.append(None)\n",
    "        \n",
    "    "
   ]
  },
  {
   "cell_type": "code",
   "execution_count": 52,
   "metadata": {
    "id": "phUeh0_8MXLm"
   },
   "outputs": [],
   "source": [
    "df = pd.DataFrame(columns=['id', 'rating', 'text'])\n",
    "df['id'] = user_id\n",
    "df['rating'] = rating\n",
    "df['text'] = text"
   ]
  },
  {
   "cell_type": "code",
   "execution_count": 53,
   "metadata": {
    "id": "24B5E0IMMXLm",
    "scrolled": true
   },
   "outputs": [
    {
     "data": {
      "text/html": [
       "<div>\n",
       "<style scoped>\n",
       "    .dataframe tbody tr th:only-of-type {\n",
       "        vertical-align: middle;\n",
       "    }\n",
       "\n",
       "    .dataframe tbody tr th {\n",
       "        vertical-align: top;\n",
       "    }\n",
       "\n",
       "    .dataframe thead th {\n",
       "        text-align: right;\n",
       "    }\n",
       "</style>\n",
       "<table border=\"1\" class=\"dataframe\">\n",
       "  <thead>\n",
       "    <tr style=\"text-align: right;\">\n",
       "      <th></th>\n",
       "      <th>id</th>\n",
       "      <th>rating</th>\n",
       "      <th>text</th>\n",
       "    </tr>\n",
       "  </thead>\n",
       "  <tbody>\n",
       "    <tr>\n",
       "      <th>1321</th>\n",
       "      <td>문병구</td>\n",
       "      <td>2.0</td>\n",
       "      <td>우선 제목부터 바꾸고 시작해야할듯.</td>\n",
       "    </tr>\n",
       "    <tr>\n",
       "      <th>1322</th>\n",
       "      <td>김호연</td>\n",
       "      <td>3.5</td>\n",
       "      <td>아고네스 귀여워!</td>\n",
       "    </tr>\n",
       "    <tr>\n",
       "      <th>1323</th>\n",
       "      <td>창개구리</td>\n",
       "      <td>3.0</td>\n",
       "      <td>귀염으로 무장한 캐릭터들과 무난한 스토리.</td>\n",
       "    </tr>\n",
       "    <tr>\n",
       "      <th>1324</th>\n",
       "      <td>강우</td>\n",
       "      <td>4.0</td>\n",
       "      <td>계속 미소가 지어지는 만화</td>\n",
       "    </tr>\n",
       "    <tr>\n",
       "      <th>1325</th>\n",
       "      <td>숨쉬는다락방</td>\n",
       "      <td>4.0</td>\n",
       "      <td>악당과 마주한 천진난만한 친구들!\\n그들의 이야기를 재치있는 상상력과 섬세한 표현으...</td>\n",
       "    </tr>\n",
       "  </tbody>\n",
       "</table>\n",
       "</div>"
      ],
      "text/plain": [
       "          id rating                                               text\n",
       "1321     문병구    2.0                                우선 제목부터 바꾸고 시작해야할듯.\n",
       "1322     김호연    3.5                                          아고네스 귀여워!\n",
       "1323    창개구리    3.0                            귀염으로 무장한 캐릭터들과 무난한 스토리.\n",
       "1324      강우    4.0                                     계속 미소가 지어지는 만화\n",
       "1325  숨쉬는다락방    4.0  악당과 마주한 천진난만한 친구들!\\n그들의 이야기를 재치있는 상상력과 섬세한 표현으..."
      ]
     },
     "execution_count": 53,
     "metadata": {},
     "output_type": "execute_result"
    }
   ],
   "source": [
    "df.tail()"
   ]
  },
  {
   "cell_type": "code",
   "execution_count": 54,
   "metadata": {
    "id": "tV4Sx9YjMXLm"
   },
   "outputs": [],
   "source": [
    "df = df[df['rating'] != '보고싶어요']\n",
    "df = df[df['rating'] != '보는중']\n",
    "df = df[df['rating'].notna()]"
   ]
  },
  {
   "cell_type": "code",
   "execution_count": 55,
   "metadata": {
    "id": "K2AGqQPaMXLn"
   },
   "outputs": [],
   "source": [
    "df['rating'] = df['rating'].apply(lambda x:float(x))"
   ]
  },
  {
   "cell_type": "code",
   "execution_count": 56,
   "metadata": {
    "id": "15KGJF-BMXLn"
   },
   "outputs": [],
   "source": [
    "df.to_csv('~/Documents/Lecture/Data Science/Final Project/Data/Aw/슈퍼배드.csv', encoding='utf-8-sig')"
   ]
  },
  {
   "cell_type": "code",
   "execution_count": null,
   "metadata": {
    "id": "8MZRAVg3MXLn"
   },
   "outputs": [],
   "source": []
  },
  {
   "cell_type": "code",
   "execution_count": 16,
   "metadata": {
    "id": "KfY-YcASMXLn"
   },
   "outputs": [
    {
     "data": {
      "text/plain": [
       "3.7825880114176975"
      ]
     },
     "execution_count": 16,
     "metadata": {},
     "output_type": "execute_result"
    }
   ],
   "source": [
    "df['rating'].mean()"
   ]
  },
  {
   "cell_type": "code",
   "execution_count": null,
   "metadata": {
    "id": "aY05zh6iMXLn"
   },
   "outputs": [],
   "source": []
  },
  {
   "cell_type": "code",
   "execution_count": null,
   "metadata": {
    "id": "mFUbKFEMMXLn"
   },
   "outputs": [],
   "source": []
  },
  {
   "cell_type": "code",
   "execution_count": null,
   "metadata": {
    "id": "wmryf-KTMXLn"
   },
   "outputs": [],
   "source": []
  },
  {
   "cell_type": "code",
   "execution_count": null,
   "metadata": {
    "id": "Zdd36zevMXLn"
   },
   "outputs": [],
   "source": []
  }
 ],
 "metadata": {
  "colab": {
   "provenance": []
  },
  "kernelspec": {
   "display_name": "Python 3",
   "language": "python",
   "name": "python3"
  },
  "language_info": {
   "codemirror_mode": {
    "name": "ipython",
    "version": 3
   },
   "file_extension": ".py",
   "mimetype": "text/x-python",
   "name": "python",
   "nbconvert_exporter": "python",
   "pygments_lexer": "ipython3",
   "version": "3.7.6"
  }
 },
 "nbformat": 4,
 "nbformat_minor": 4
}
