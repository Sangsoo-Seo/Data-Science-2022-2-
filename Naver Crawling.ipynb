{
 "cells": [
  {
   "cell_type": "code",
   "execution_count": 1,
   "metadata": {
    "colab": {
     "base_uri": "https://localhost:8080/"
    },
    "executionInfo": {
     "elapsed": 22123,
     "status": "ok",
     "timestamp": 1669274380718,
     "user": {
      "displayName": "김예진",
      "userId": "09141909830187410712"
     },
     "user_tz": -540
    },
    "id": "IVX-KPnVgP_U",
    "outputId": "193e5880-1d5c-4d29-e30e-6be358c8a351"
   },
   "outputs": [
    {
     "name": "stdout",
     "output_type": "stream",
     "text": [
      "Requirement already satisfied: selenium in /Users/constant/opt/anaconda3/lib/python3.7/site-packages (4.6.0)\n",
      "Requirement already satisfied: urllib3[socks]~=1.26 in /Users/constant/opt/anaconda3/lib/python3.7/site-packages (from selenium) (1.26.13)\n",
      "Requirement already satisfied: trio~=0.17 in /Users/constant/opt/anaconda3/lib/python3.7/site-packages (from selenium) (0.22.0)\n",
      "Requirement already satisfied: certifi>=2021.10.8 in /Users/constant/opt/anaconda3/lib/python3.7/site-packages (from selenium) (2022.9.24)\n",
      "Requirement already satisfied: trio-websocket~=0.9 in /Users/constant/opt/anaconda3/lib/python3.7/site-packages (from selenium) (0.9.2)\n",
      "Requirement already satisfied: exceptiongroup>=1.0.0rc9 in /Users/constant/opt/anaconda3/lib/python3.7/site-packages (from trio~=0.17->selenium) (1.0.4)\n",
      "Requirement already satisfied: outcome in /Users/constant/opt/anaconda3/lib/python3.7/site-packages (from trio~=0.17->selenium) (1.2.0)\n",
      "Requirement already satisfied: sortedcontainers in /Users/constant/opt/anaconda3/lib/python3.7/site-packages (from trio~=0.17->selenium) (2.1.0)\n",
      "Requirement already satisfied: async-generator>=1.9 in /Users/constant/opt/anaconda3/lib/python3.7/site-packages (from trio~=0.17->selenium) (1.10)\n",
      "Requirement already satisfied: attrs>=19.2.0 in /Users/constant/opt/anaconda3/lib/python3.7/site-packages (from trio~=0.17->selenium) (19.3.0)\n",
      "Requirement already satisfied: sniffio in /Users/constant/opt/anaconda3/lib/python3.7/site-packages (from trio~=0.17->selenium) (1.3.0)\n",
      "Requirement already satisfied: idna in /Users/constant/opt/anaconda3/lib/python3.7/site-packages (from trio~=0.17->selenium) (2.8)\n",
      "Requirement already satisfied: wsproto>=0.14 in /Users/constant/opt/anaconda3/lib/python3.7/site-packages (from trio-websocket~=0.9->selenium) (1.2.0)\n",
      "Requirement already satisfied: PySocks!=1.5.7,<2.0,>=1.5.6 in /Users/constant/opt/anaconda3/lib/python3.7/site-packages (from urllib3[socks]~=1.26->selenium) (1.7.1)\n",
      "Requirement already satisfied: h11<1,>=0.9.0 in /Users/constant/opt/anaconda3/lib/python3.7/site-packages (from wsproto>=0.14->trio-websocket~=0.9->selenium) (0.14.0)\n",
      "Requirement already satisfied: typing-extensions in /Users/constant/opt/anaconda3/lib/python3.7/site-packages (from h11<1,>=0.9.0->wsproto>=0.14->trio-websocket~=0.9->selenium) (3.7.4.3)\n",
      "\u001b[33mWARNING: You are using pip version 21.1.2; however, version 22.3.1 is available.\n",
      "You should consider upgrading via the '/Users/constant/opt/anaconda3/bin/python -m pip install --upgrade pip' command.\u001b[0m\n",
      "Note: you may need to restart the kernel to use updated packages.\n"
     ]
    }
   ],
   "source": [
    "pip install selenium"
   ]
  },
  {
   "cell_type": "code",
   "execution_count": 3,
   "metadata": {
    "executionInfo": {
     "elapsed": 346,
     "status": "ok",
     "timestamp": 1669274445960,
     "user": {
      "displayName": "김예진",
      "userId": "09141909830187410712"
     },
     "user_tz": -540
    },
    "id": "bQ41O_6pKIsa"
   },
   "outputs": [],
   "source": [
    "# options = Options()\n",
    "# user_agent = 'Mozilla/5.0 (Windows NT 10.0; Win64; x64) AppleWebKit/537.36 (KHTML, like Gecko) Chrome/106.0.5249.114 Whale/3.17.145.12 Safari/537.36'\n",
    "# options.add_argument(user_agent)\n",
    "# #options.add_argument('headless')"
   ]
  },
  {
   "cell_type": "code",
   "execution_count": 1,
   "metadata": {
    "colab": {
     "base_uri": "https://localhost:8080/"
    },
    "executionInfo": {
     "elapsed": 852,
     "status": "ok",
     "timestamp": 1669274439107,
     "user": {
      "displayName": "김예진",
      "userId": "09141909830187410712"
     },
     "user_tz": -540
    },
    "id": "hXHO73nyKIsX",
    "outputId": "66e28875-716e-4bee-fb1a-9fc3c9895cdf"
   },
   "outputs": [
    {
     "name": "stderr",
     "output_type": "stream",
     "text": [
      "/Users/constant/opt/anaconda3/lib/python3.7/site-packages/requests/__init__.py:91: RequestsDependencyWarning: urllib3 (1.26.13) or chardet (3.0.4) doesn't match a supported version!\n",
      "  RequestsDependencyWarning)\n"
     ]
    }
   ],
   "source": [
    "import requests as req\n",
    "from bs4 import BeautifulSoup as bs\n",
    "import pandas as pd\n",
    "import numpy as np\n",
    "\n",
    "from selenium.webdriver.common.keys import Keys\n",
    "from selenium import webdriver as wd\n",
    "from selenium.webdriver.chrome.options import Options\n",
    "import time\n",
    "\n",
    "from selenium.webdriver.common.by import By"
   ]
  },
  {
   "cell_type": "code",
   "execution_count": 2,
   "metadata": {
    "colab": {
     "base_uri": "https://localhost:8080/",
     "height": 650
    },
    "executionInfo": {
     "elapsed": 310,
     "status": "error",
     "timestamp": 1669275208032,
     "user": {
      "displayName": "김예진",
      "userId": "09141909830187410712"
     },
     "user_tz": -540
    },
    "id": "QVJMVsWWKIsb",
    "outputId": "8ee59035-855b-4ce4-90df-b347d1ceaf6d"
   },
   "outputs": [
    {
     "name": "stderr",
     "output_type": "stream",
     "text": [
      "/Users/constant/opt/anaconda3/lib/python3.7/site-packages/ipykernel_launcher.py:4: DeprecationWarning: executable_path has been deprecated, please pass in a Service object\n",
      "  after removing the cwd from sys.path.\n"
     ]
    }
   ],
   "source": [
    "#path = 'C:/Users/82107/Desktop/DataScienceProject/chromedriver/chromedriver'\n",
    "path = 'constant/Documents/Lecture/Data Science/Jupyter/chromedriver'\n",
    "#driver = wd.Chrome(path, options=options)\n",
    "driver = wd.Chrome(path)"
   ]
  },
  {
   "cell_type": "markdown",
   "metadata": {
    "id": "mMEj69kGg-RZ"
   },
   "source": []
  },
  {
   "cell_type": "code",
   "execution_count": 3,
   "metadata": {
    "id": "zl0d2hj8KIsb"
   },
   "outputs": [],
   "source": [
    "#여기 주소 입력. code부분만 바꾸면 됨\n",
    "driver.get('https://movie.naver.com/movie/bi/mi/pointWriteFormList.naver?code=204496&type=after&isActualPointWriteExecute=false&isMileageSubscriptionAlready=false&isMileageSubscriptionReject=false&page=1')"
   ]
  },
  {
   "cell_type": "code",
   "execution_count": null,
   "metadata": {
    "id": "1i-cItLxKIsc"
   },
   "outputs": [],
   "source": [
    "# #평점 더보기 버튼 클릭\n",
    "# elem = driver.find_element_by_css_selector('#content > div.article > div.section_group.section_group_frst > div:nth-child(5) > div:nth-child(2) > a')\n",
    "# elem.click()"
   ]
  },
  {
   "cell_type": "code",
   "execution_count": null,
   "metadata": {
    "id": "eIlzoB5WKIsc"
   },
   "outputs": [],
   "source": [
    "# soup = bs(driver.page_source, 'lxml')"
   ]
  },
  {
   "cell_type": "code",
   "execution_count": null,
   "metadata": {
    "id": "mVLnCNh9KIsd"
   },
   "outputs": [],
   "source": [
    "# reviews = soup.find('div', attrs={'class':'score_result'})\n",
    "# reviews = reviews.find_all('li')"
   ]
  },
  {
   "cell_type": "code",
   "execution_count": null,
   "metadata": {
    "id": "jHbq1eyxKIsd"
   },
   "outputs": [],
   "source": []
  },
  {
   "cell_type": "code",
   "execution_count": 31,
   "metadata": {
    "id": "1i1BfbjAKIse",
    "outputId": "d4808319-03ea-44be-dfff-46db33caf789"
   },
   "outputs": [
    {
     "name": "stdout",
     "output_type": "stream",
     "text": [
      "에러가 발생했습니다 Message: invalid argument: invalid locator\n",
      "  (Session info: chrome=107.0.5304.110)\n",
      "Stacktrace:\n",
      "0   chromedriver                        0x000000010084f2c8 chromedriver + 4752072\n",
      "1   chromedriver                        0x00000001007cf463 chromedriver + 4228195\n",
      "2   chromedriver                        0x0000000100432b18 chromedriver + 441112\n",
      "3   chromedriver                        0x000000010046f79c chromedriver + 690076\n",
      "4   chromedriver                        0x0000000100470061 chromedriver + 692321\n",
      "5   chromedriver                        0x00000001004ab5e4 chromedriver + 935396\n",
      "6   chromedriver                        0x0000000100490d2d chromedriver + 826669\n",
      "7   chromedriver                        0x00000001004a9134 chromedriver + 926004\n",
      "8   chromedriver                        0x0000000100490b33 chromedriver + 826163\n",
      "9   chromedriver                        0x00000001004619fd chromedriver + 633341\n",
      "10  chromedriver                        0x0000000100463051 chromedriver + 639057\n",
      "11  chromedriver                        0x000000010081c30e chromedriver + 4543246\n",
      "12  chromedriver                        0x0000000100820a88 chromedriver + 4561544\n",
      "13  chromedriver                        0x00000001008286df chromedriver + 4593375\n",
      "14  chromedriver                        0x00000001008218fa chromedriver + 4565242\n",
      "15  chromedriver                        0x00000001007f72cf chromedriver + 4391631\n",
      "16  chromedriver                        0x00000001008405b8 chromedriver + 4691384\n",
      "17  chromedriver                        0x0000000100840739 chromedriver + 4691769\n",
      "18  chromedriver                        0x000000010085681e chromedriver + 4782110\n",
      "19  libsystem_pthread.dylib             0x00007ff817899259 _pthread_start + 125\n",
      "20  libsystem_pthread.dylib             0x00007ff817894c7b thread_start + 15\n",
      "\n"
     ]
    }
   ],
   "source": [
    "rating = []\n",
    "text = []\n",
    "watcher = []\n",
    "date = []\n",
    "user_id = []\n",
    "like = []\n",
    "dislike = []\n",
    "\n",
    "\n",
    "#첫 번째 페이지\n",
    "soup = bs(driver.page_source, 'lxml')\n",
    "reviews = soup.find('div', attrs={'class':'score_result'})\n",
    "reviews = reviews.find_all('li')\n",
    "\n",
    "for review in reviews:\n",
    "    rating_temp = review.find('em').get_text()\n",
    "    rating.append(rating_temp)\n",
    "    \n",
    "    \n",
    "    #관람객 여부, user id, text\n",
    "    if review.find('span', attrs={'class':'ico_viewer'}) != None:\n",
    "        watcher.append(1)\n",
    "        text_temp = review.find_all('span')[3]\n",
    "        user_id_temp = review.find_all('span')[4]\n",
    "        if text_temp != None:\n",
    "            text.append(text_temp.get_text().strip())\n",
    "        else:\n",
    "            text.append(None)\n",
    "        if user_id_temp != None:\n",
    "            user_id.append(user_id_temp.get_text())\n",
    "        else:\n",
    "            user_id.append(None)         \n",
    "    else:\n",
    "        watcher.append(0)\n",
    "        text_temp = review.find_all('span')[2]\n",
    "        user_id_temp = review.find_all('span')[3]\n",
    "        if text_temp != None:\n",
    "            text.append(text_temp.get_text().strip())\n",
    "        else:\n",
    "            text.append(None)\n",
    "        if user_id_temp != None:\n",
    "            user_id.append(user_id_temp.get_text())\n",
    "        else:\n",
    "            user_id.append(None)  \n",
    "    \n",
    "    #리뷰 생성 날짜\n",
    "    date_temp = review.find_all('em')[-2].get_text()\n",
    "    date.append(date_temp)\n",
    "    \n",
    "    #좋아요, 싫어요 수\n",
    "    like_temp, dislike_temp = review.find_all('strong')\n",
    "    like.append(like_temp.get_text())\n",
    "    dislike.append(dislike_temp.get_text())\n",
    "    \n",
    "\n",
    "#두 번째 페이지\n",
    "k = 1\n",
    "while True:\n",
    "    k += 1\n",
    "    try:\n",
    "        #다음 버튼 클릭\n",
    "        elem = driver.find_element_by_css_selector('#pagerTagAnchor{} > em'.format(k))\n",
    "        #elem = driver.find_element('#pagerTagAnchor{} > em'.format(k))\n",
    "        elem.click()\n",
    "        time.sleep(0.4)   \n",
    "        \n",
    "        #html 가져오기\n",
    "        soup = bs(driver.page_source, 'lxml')\n",
    "        reviews = soup.find('div', attrs={'class':'score_result'})\n",
    "        reviews = reviews.find_all('li')\n",
    "\n",
    "        for review in reviews:\n",
    "            rating_temp = review.find('em').get_text()\n",
    "            rating.append(rating_temp)\n",
    "            \n",
    "#             #리뷰 텍스트\n",
    "#             if review.find('span', attrs={'class':'_unfold_ment'}) != None:\n",
    "#                 text_temp = review.find_all('span')[3].get_text().strip()\n",
    "#             else:\n",
    "#                 text_temp = review.find_all('span')[2].get_text().strip()\n",
    "#                 text.append(text_temp)\n",
    "                \n",
    "            \n",
    "            #관람객 평점 여부\n",
    "            if review.find('span', attrs={'class':'ico_viewer'}) != None:\n",
    "                watcher.append(1)\n",
    "                text_temp = review.find_all('span')[3]\n",
    "                user_id_temp = review.find_all('span')[4]\n",
    "                if text_temp != None:\n",
    "                    text.append(text_temp.get_text().strip())\n",
    "                else:\n",
    "                    text.append(None)\n",
    "                if user_id_temp != None:\n",
    "                    user_id.append(user_id_temp.get_text())\n",
    "                else:\n",
    "                    user_id.append(None)\n",
    "                \n",
    "            else:\n",
    "                watcher.append(0)\n",
    "                text_temp = review.find_all('span')[2]\n",
    "                user_id_temp = review.find_all('span')[3]\n",
    "                if text_temp != None:\n",
    "                    text.append(text_temp.get_text().strip())\n",
    "                else:\n",
    "                    text.append(None)\n",
    "                if user_id_temp != None:\n",
    "                    user_id.append(user_id_temp.get_text())\n",
    "                else:\n",
    "                    user_id.append(None)                \n",
    "            \n",
    "            #날짜\n",
    "            date_temp = review.find_all('em')[-2].get_text()\n",
    "            date.append(date_temp)\n",
    "            \n",
    "#             #\n",
    "#             if review.find('span', attrs={'class':'_unfold_ment'}) != None:\n",
    "#                 user_id_temp = review.find_all('span')[4].get_text()\n",
    "#             else:\n",
    "#                 user_id_temp = review.find_all('span')[3].get_text()\n",
    "#             user_id.append(user_id_temp)\n",
    "\n",
    "            like_temp, dislike_temp = review.find_all('strong')\n",
    "            like.append(like_temp.get_text())\n",
    "            dislike.append(dislike_temp.get_text())\n",
    "    \n",
    "    except Exception as ex:\n",
    "        print('에러가 발생했습니다', ex)\n",
    "        break\n",
    "        "
   ]
  },
  {
   "cell_type": "code",
   "execution_count": 32,
   "metadata": {
    "id": "Zh-Tjc8mKIsg"
   },
   "outputs": [],
   "source": [
    "df = pd.DataFrame(columns=['id', 'date', 'rating', 'text', 'watched', 'like', 'dislike'])\n",
    "df['id'] = user_id\n",
    "df['date'] = date\n",
    "df['rating'] = rating\n",
    "df['text'] = text\n",
    "df['watched'] = watcher\n",
    "df['like'] = like\n",
    "df['dislike'] = dislike"
   ]
  },
  {
   "cell_type": "code",
   "execution_count": 33,
   "metadata": {
    "id": "uX49U5j9KIsg",
    "outputId": "fb2e5b2b-4682-47ab-e99f-903e34cc5950",
    "scrolled": true
   },
   "outputs": [
    {
     "data": {
      "text/html": [
       "<div>\n",
       "<style scoped>\n",
       "    .dataframe tbody tr th:only-of-type {\n",
       "        vertical-align: middle;\n",
       "    }\n",
       "\n",
       "    .dataframe tbody tr th {\n",
       "        vertical-align: top;\n",
       "    }\n",
       "\n",
       "    .dataframe thead th {\n",
       "        text-align: right;\n",
       "    }\n",
       "</style>\n",
       "<table border=\"1\" class=\"dataframe\">\n",
       "  <thead>\n",
       "    <tr style=\"text-align: right;\">\n",
       "      <th></th>\n",
       "      <th>id</th>\n",
       "      <th>date</th>\n",
       "      <th>rating</th>\n",
       "      <th>text</th>\n",
       "      <th>watched</th>\n",
       "      <th>like</th>\n",
       "      <th>dislike</th>\n",
       "    </tr>\n",
       "  </thead>\n",
       "  <tbody>\n",
       "    <tr>\n",
       "      <th>0</th>\n",
       "      <td>햇살(lhs0****)</td>\n",
       "      <td>2021.07.14 13:41</td>\n",
       "      <td>6</td>\n",
       "      <td>공포가 아니라 그냥 기괴함. 나중에가선 그 기괴함마저도 아이러니함. 페이크 다큐식 ...</td>\n",
       "      <td>1</td>\n",
       "      <td>3645</td>\n",
       "      <td>536</td>\n",
       "    </tr>\n",
       "    <tr>\n",
       "      <th>1</th>\n",
       "      <td>\\n\\n\\t\\t\\t\\t\\t\\t\\t\\t\\t\\t\\t\\t\\t\\t\\t\\t\\t\\t이런 영화보...</td>\n",
       "      <td>2021.07.14 16:35</td>\n",
       "      <td>1</td>\n",
       "      <td>이런 영화보기 위해 시간과 돈을 낭비하지 마세요. 세상에는 아직 봐야할 다른 좋은 ...</td>\n",
       "      <td>1</td>\n",
       "      <td>3647</td>\n",
       "      <td>1102</td>\n",
       "    </tr>\n",
       "    <tr>\n",
       "      <th>2</th>\n",
       "      <td>jeong(leej****)</td>\n",
       "      <td>2021.07.14 13:01</td>\n",
       "      <td>7</td>\n",
       "      <td>보고난뒤 기분이 더러웠는데 집와서 치킨 뜯으니 좀낫다</td>\n",
       "      <td>1</td>\n",
       "      <td>1862</td>\n",
       "      <td>214</td>\n",
       "    </tr>\n",
       "    <tr>\n",
       "      <th>3</th>\n",
       "      <td>윤선영(asdk****)</td>\n",
       "      <td>2021.07.14 14:20</td>\n",
       "      <td>1</td>\n",
       "      <td>온갖 19금은 때려넣은 영화. 티비 vod 중에 무료로 푸는 10년 전 영화 느낌....</td>\n",
       "      <td>1</td>\n",
       "      <td>2242</td>\n",
       "      <td>754</td>\n",
       "    </tr>\n",
       "    <tr>\n",
       "      <th>4</th>\n",
       "      <td>박물관(dong****)</td>\n",
       "      <td>2021.07.15 02:14</td>\n",
       "      <td>1</td>\n",
       "      <td>바이럴 마케팅에 내돈을 낭비한 것에 너무나 화가나는 영화.그렇게 무섭지도 않고 재미...</td>\n",
       "      <td>1</td>\n",
       "      <td>1475</td>\n",
       "      <td>340</td>\n",
       "    </tr>\n",
       "    <tr>\n",
       "      <th>5</th>\n",
       "      <td>하다(kscn****)</td>\n",
       "      <td>2021.07.14 13:52</td>\n",
       "      <td>4</td>\n",
       "      <td>핸드캠 들고있는 인간(다큐 제작진)이 스토리 내에 개입하는 느낌이 거의 없는데 제3...</td>\n",
       "      <td>1</td>\n",
       "      <td>1184</td>\n",
       "      <td>251</td>\n",
       "    </tr>\n",
       "    <tr>\n",
       "      <th>6</th>\n",
       "      <td>스크랩헤븐(rty7****)</td>\n",
       "      <td>2021.07.14 09:55</td>\n",
       "      <td>7</td>\n",
       "      <td>전반적으로 부족했던 공포감을 여배우의 연기력으로 120%이상 이끌어냄. 다른건 몰라...</td>\n",
       "      <td>1</td>\n",
       "      <td>1157</td>\n",
       "      <td>265</td>\n",
       "    </tr>\n",
       "    <tr>\n",
       "      <th>7</th>\n",
       "      <td>ywc7****</td>\n",
       "      <td>2021.07.14 12:29</td>\n",
       "      <td>6</td>\n",
       "      <td>나홍진식 공포영화는 절대 아님</td>\n",
       "      <td>1</td>\n",
       "      <td>1080</td>\n",
       "      <td>244</td>\n",
       "    </tr>\n",
       "    <tr>\n",
       "      <th>8</th>\n",
       "      <td>맞는말만하는사람(jinj****)</td>\n",
       "      <td>2021.07.14 11:31</td>\n",
       "      <td>7</td>\n",
       "      <td>생각보다 유치했어요</td>\n",
       "      <td>1</td>\n",
       "      <td>703</td>\n",
       "      <td>203</td>\n",
       "    </tr>\n",
       "    <tr>\n",
       "      <th>9</th>\n",
       "      <td>시간낭비갑(higo****)</td>\n",
       "      <td>2021.07.16 19:07</td>\n",
       "      <td>1</td>\n",
       "      <td>10점 주는 사람은 딱 두 부류임. 배급사 알바 or 나만 걸릴순없지 마인드</td>\n",
       "      <td>1</td>\n",
       "      <td>577</td>\n",
       "      <td>136</td>\n",
       "    </tr>\n",
       "  </tbody>\n",
       "</table>\n",
       "</div>"
      ],
      "text/plain": [
       "                                                  id              date rating  \\\n",
       "0                                       햇살(lhs0****)  2021.07.14 13:41      6   \n",
       "1  \\n\\n\\t\\t\\t\\t\\t\\t\\t\\t\\t\\t\\t\\t\\t\\t\\t\\t\\t\\t이런 영화보...  2021.07.14 16:35      1   \n",
       "2                                    jeong(leej****)  2021.07.14 13:01      7   \n",
       "3                                      윤선영(asdk****)  2021.07.14 14:20      1   \n",
       "4                                      박물관(dong****)  2021.07.15 02:14      1   \n",
       "5                                       하다(kscn****)  2021.07.14 13:52      4   \n",
       "6                                    스크랩헤븐(rty7****)  2021.07.14 09:55      7   \n",
       "7                                           ywc7****  2021.07.14 12:29      6   \n",
       "8                                 맞는말만하는사람(jinj****)  2021.07.14 11:31      7   \n",
       "9                                    시간낭비갑(higo****)  2021.07.16 19:07      1   \n",
       "\n",
       "                                                text  watched  like dislike  \n",
       "0  공포가 아니라 그냥 기괴함. 나중에가선 그 기괴함마저도 아이러니함. 페이크 다큐식 ...        1  3645     536  \n",
       "1  이런 영화보기 위해 시간과 돈을 낭비하지 마세요. 세상에는 아직 봐야할 다른 좋은 ...        1  3647    1102  \n",
       "2                      보고난뒤 기분이 더러웠는데 집와서 치킨 뜯으니 좀낫다        1  1862     214  \n",
       "3  온갖 19금은 때려넣은 영화. 티비 vod 중에 무료로 푸는 10년 전 영화 느낌....        1  2242     754  \n",
       "4  바이럴 마케팅에 내돈을 낭비한 것에 너무나 화가나는 영화.그렇게 무섭지도 않고 재미...        1  1475     340  \n",
       "5  핸드캠 들고있는 인간(다큐 제작진)이 스토리 내에 개입하는 느낌이 거의 없는데 제3...        1  1184     251  \n",
       "6  전반적으로 부족했던 공포감을 여배우의 연기력으로 120%이상 이끌어냄. 다른건 몰라...        1  1157     265  \n",
       "7                                   나홍진식 공포영화는 절대 아님        1  1080     244  \n",
       "8                                         생각보다 유치했어요        1   703     203  \n",
       "9         10점 주는 사람은 딱 두 부류임. 배급사 알바 or 나만 걸릴순없지 마인드        1   577     136  "
      ]
     },
     "execution_count": 33,
     "metadata": {},
     "output_type": "execute_result"
    }
   ],
   "source": [
    "df"
   ]
  },
  {
   "cell_type": "code",
   "execution_count": 10,
   "metadata": {
    "id": "KXXcezVzKIsg"
   },
   "outputs": [],
   "source": [
    "df = df[df['rating'].notna()]\n",
    "df['rating'] = df['rating'].apply(lambda x:float(x))"
   ]
  },
  {
   "cell_type": "code",
   "execution_count": 14,
   "metadata": {
    "id": "tqg0I1c7KIsh"
   },
   "outputs": [],
   "source": [
    "df.to_csv('~/Documents/Lecture/Data Science/Final Project/Data/n/랑종.csv', encoding='utf-8-sig')"
   ]
  },
  {
   "cell_type": "code",
   "execution_count": null,
   "metadata": {
    "id": "V6ytcUhDKIsh"
   },
   "outputs": [],
   "source": []
  },
  {
   "cell_type": "code",
   "execution_count": null,
   "metadata": {
    "id": "sqRKgHpLKIsh"
   },
   "outputs": [],
   "source": []
  },
  {
   "cell_type": "code",
   "execution_count": null,
   "metadata": {
    "id": "EX1f57sVKIsh"
   },
   "outputs": [],
   "source": []
  },
  {
   "cell_type": "code",
   "execution_count": null,
   "metadata": {
    "id": "aWR6WIuAKIsh"
   },
   "outputs": [],
   "source": []
  },
  {
   "cell_type": "code",
   "execution_count": null,
   "metadata": {
    "id": "zQJ95dwgKIsh"
   },
   "outputs": [],
   "source": []
  },
  {
   "cell_type": "code",
   "execution_count": null,
   "metadata": {
    "id": "SxULvONwKIsh"
   },
   "outputs": [],
   "source": [
    "import numpy as np\n",
    "from scipy.stats import norm"
   ]
  },
  {
   "cell_type": "code",
   "execution_count": null,
   "metadata": {
    "id": "BIUWeXATKIsi",
    "outputId": "fc37a7af-778a-43f5-ba9b-b30fe3e88b65"
   },
   "outputs": [
    {
     "name": "stdout",
     "output_type": "stream",
     "text": [
      "499.9997170653493\n"
     ]
    }
   ],
   "source": [
    "def kl_divergence(p, q):\n",
    "    return np.sum(np.where(p != 0, p * np.log(p / q), 0))\n",
    "    \n",
    "if __name__ == '__main__':\n",
    "    x = np.arange(-10, 10, 0.001)\n",
    "    p = norm.pdf(x, 0, 2)\n",
    "    q = norm.pdf(x, 2, 2)\n",
    "    \n",
    "    print(kl_divergence(p, q))"
   ]
  },
  {
   "cell_type": "code",
   "execution_count": null,
   "metadata": {
    "id": "mv81K-FOKIsi"
   },
   "outputs": [],
   "source": []
  },
  {
   "cell_type": "code",
   "execution_count": null,
   "metadata": {
    "id": "nEYbYOkQKIsi"
   },
   "outputs": [],
   "source": []
  },
  {
   "cell_type": "code",
   "execution_count": null,
   "metadata": {
    "id": "Nl8hsTG3KIsi"
   },
   "outputs": [],
   "source": []
  }
 ],
 "metadata": {
  "colab": {
   "provenance": []
  },
  "kernelspec": {
   "display_name": "Python 3",
   "language": "python",
   "name": "python3"
  },
  "language_info": {
   "codemirror_mode": {
    "name": "ipython",
    "version": 3
   },
   "file_extension": ".py",
   "mimetype": "text/x-python",
   "name": "python",
   "nbconvert_exporter": "python",
   "pygments_lexer": "ipython3",
   "version": "3.7.6"
  }
 },
 "nbformat": 4,
 "nbformat_minor": 1
}
